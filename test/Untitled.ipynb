{
 "cells": [
  {
   "cell_type": "code",
   "execution_count": null,
   "metadata": {},
   "outputs": [],
   "source": []
  },
  {
   "cell_type": "code",
   "execution_count": 1,
   "metadata": {},
   "outputs": [],
   "source": [
    "from twitterCrawler.myClass import TwitterDriver\n",
    "p=TwitterDriver()"
   ]
  },
  {
   "cell_type": "code",
   "execution_count": 2,
   "metadata": {},
   "outputs": [],
   "source": [
    "p.get_browser(usr=\"\",pwd=\"\")"
   ]
  },
  {
   "cell_type": "code",
   "execution_count": 4,
   "metadata": {},
   "outputs": [
    {
     "data": {
      "text/plain": [
       "{'name': '@canardenchaine',\n",
       " 'nb_tweets': '1,643 Tweets',\n",
       " 'user_description': \"Compte officiel du Canard Enchaîné - La liberté de la presse ne s'use que quand on ne s'en sert pas.\",\n",
       " 'data': 'Parislecanardenchaine.frJoined June 2012',\n",
       " 'following': '237',\n",
       " 'followers': '685,444',\n",
       " 'image': 'https://pbs.twimg.com/profile_images/2337798993/kslijvswdkfer42ptwiu_200x200.jpeg'}"
      ]
     },
     "execution_count": 4,
     "metadata": {},
     "output_type": "execute_result"
    }
   ],
   "source": [
    "p.get_user_info(user_id=\"canardenchaine\")"
   ]
  },
  {
   "cell_type": "code",
   "execution_count": 5,
   "metadata": {},
   "outputs": [
    {
     "data": {
      "text/plain": [
       "['https://twitter.com/libe/status/1305425060791029761/photo/1',\n",
       " 'https://twitter.com/libe/status/1305426034628714496/photo/1',\n",
       " 'https://twitter.com/libe/status/1305432737772236805/photo/1',\n",
       " 'https://twitter.com/libe/status/1305431272710381573/photo/1',\n",
       " 'https://twitter.com/libe/header_photo',\n",
       " 'https://twitter.com/libe/status/1305427703894425602/photo/1',\n",
       " 'https://twitter.com/libe/status/1305356233432465409/photo/1',\n",
       " 'https://twitter.com/libe/status/1305435893566771200/photo/1',\n",
       " 'https://twitter.com/libe/status/1305386305241538560/photo/1',\n",
       " 'https://twitter.com/libe/status/1305437205796737024/photo/1',\n",
       " 'https://twitter.com/libe/status/1305414114064302080/photo/1',\n",
       " 'https://twitter.com/libe/status/1305399149869686785/photo/1',\n",
       " 'https://twitter.com/libe/status/1305368061994610688/photo/1',\n",
       " 'https://twitter.com/libe/photo',\n",
       " 'https://twitter.com/libe/status/1305379636440780800/photo/1',\n",
       " 'https://twitter.com/libe/status/1305391462981406720/photo/1',\n",
       " 'https://twitter.com/libe/status/1305415756654411776/photo/1']"
      ]
     },
     "execution_count": 5,
     "metadata": {},
     "output_type": "execute_result"
    }
   ],
   "source": [
    "p.get_images(user_id=\"libe\",scroll=9,nb_images=20)"
   ]
  },
  {
   "cell_type": "code",
   "execution_count": 3,
   "metadata": {},
   "outputs": [
    {
     "data": {
      "text/plain": [
       "[{'post_data': {'contenu': 'DEMAIN DANS LE CANARD\\nPourquoi les banques et le fisc veulent tuer l’argent liquide',\n",
       "   'image': '',\n",
       "   'date': '3:03 PM · Aug 25, 2020',\n",
       "   'Retweets and comments': '474\\n Retweets',\n",
       "   'likes': '31\\n Quote Tweets'},\n",
       "  'comments': [{'user': 'Criscrisix\\n@criscrismai68',\n",
       "    'comment': \"On connaît la réponse, la mafia s'en sortira toujours !\",\n",
       "    'date': '3:06 PM · Aug 25, 2020',\n",
       "    'reply_to': 'Replying to \\n@canardenchaine'},\n",
       "   {'user': 'NOUGUIER Olivier\\n@oNouguier',\n",
       "    'comment': 'Traçabilité. #WhatElse ?',\n",
       "    'date': '3:10 PM · Aug 25, 2020',\n",
       "    'reply_to': 'Replying to \\n@canardenchaine'},\n",
       "   {'user': '@newsolog\\n@newsolog',\n",
       "    'comment': \"Les soit disant conspirationnistes en parle depuis 25 ans .\\nSuppression de la monnaie papier pour controler et taxer TOUTES les transactions.\\nMême le vélo d'occasion revendu \\n20.6 % de taxe+ 1 euros pour la banque pour la transaction numérique\",\n",
       "    'date': '3:13 PM · Aug 25, 2020',\n",
       "    'reply_to': 'Replying to \\n@canardenchaine'},\n",
       "   {'user': 'Virginie\\n@cheope1968',\n",
       "    'comment': 'Parce qu elles ont fait faillite et veulent  éviter le bankrun. Retrait  de toute les liquidités il n y en aurait pas pour tout le monde.',\n",
       "    'date': '3:14 PM · Aug 25, 2020',\n",
       "    'reply_to': 'Replying to \\n@canardenchaine'},\n",
       "   {'user': 'Shaka-sama\\n@sama_shaka',\n",
       "    'comment': 'Pour faire chier les gamins à Noël ?',\n",
       "    'date': '3:26 PM · Aug 25, 2020',\n",
       "    'reply_to': 'Replying to \\n@canardenchaine\\n and \\n@nichkaie'},\n",
       "   {'user': 'LaX Mim\\n@mim_lax',\n",
       "    'comment': 'Droit vers la DICTATURE.',\n",
       "    'date': '3:26 PM · Aug 25, 2020',\n",
       "    'reply_to': 'Replying to \\n@canardenchaine'},\n",
       "   {'user': 'ROGER ZDZISLAW KNADE\\n@ROGERZDZISLAWKN',\n",
       "    'comment': '',\n",
       "    'date': '3:43 PM · Aug 25, 2020',\n",
       "    'reply_to': 'Replying to \\n@canardenchaine'},\n",
       "   {'user': 'Pascal ANDREOLLI\\n@PascalAndreolli',\n",
       "    'comment': \"Toujours en retard d'une ou deux guerre l'état français #cryptomonnaie\",\n",
       "    'date': '4:16 PM · Aug 25, 2020',\n",
       "    'reply_to': 'Replying to \\n@canardenchaine'},\n",
       "   {'user': 'Le Gratiet Valérie VLG14171 dadartist poet furiosa\\n@PyZoey',\n",
       "    'comment': \"? rendre l'unité temps / co2 bankable\",\n",
       "    'date': '4:27 PM · Aug 25, 2020',\n",
       "    'reply_to': 'Replying to \\n@canardenchaine'},\n",
       "   {'user': 'comptable ludique\\n@ComptableL',\n",
       "    'comment': 'La question elle est vite répondue',\n",
       "    'date': '4:31 PM · Aug 25, 2020',\n",
       "    'reply_to': 'Replying to \\n@canardenchaine'}]}]"
      ]
     },
     "execution_count": 3,
     "metadata": {},
     "output_type": "execute_result"
    }
   ],
   "source": [
    "p.get_publication(user_id=\"canardenchaine\",nb_tweets=1,nb_comments=30,scroll=2,comments=\"T\")"
   ]
  },
  {
   "cell_type": "code",
   "execution_count": 5,
   "metadata": {},
   "outputs": [
    {
     "data": {
      "text/plain": [
       "[{'post_data': {'contenu': \"L'étude sur le vaccin AstraZeneca Covid-19 suspendue en raison d'une réaction indésirable présumée chez un participant au Royaume-Uni - Stat News\",\n",
       "   'image': 'https://abs.twimg.com/sticky/default_profile_images/default_profile_normal.png',\n",
       "   'date': '11:41 PM · Sep 8, 2020',\n",
       "   'Retweets and comments': '3\\n Retweets',\n",
       "   'likes': '1\\n Quote Tweet'},\n",
       "  'comments': []}]"
      ]
     },
     "execution_count": 5,
     "metadata": {},
     "output_type": "execute_result"
    }
   ],
   "source": [
    "p.get_publication(user_id=\"Znanem47\",nb_tweets=1,nb_comments=30,scroll=2,comments=\"T\")"
   ]
  },
  {
   "cell_type": "code",
   "execution_count": 6,
   "metadata": {},
   "outputs": [
    {
     "data": {
      "text/plain": [
       "[{'user': 'S ⁷\\n@s_tae_',\n",
       "  'comment': 'JDOIT CONSEILLER UNE MUSIQUE KPOP A MA COLLÈGUE LOCAL JLUI DIT QUOI ???? J’HÉSITE ENTRE ON ET FAKE LOVE !!!',\n",
       "  'date': '10:33 AM · 11 sept. 2020'},\n",
       " {'user': 'DJ Mag FR\\n@djmagFR',\n",
       "  'comment': 'David Guetta retrouve Sia sur le tube ‘Let’s Love’\\n\\nAprès ‘Titanium’ ou ‘She Wolf’, \\n@davidguetta\\n  et \\n@Sia\\n partagent l’affiche d’un nouveau morceau aux influences très 80s ! \\n\\nEn savoir plus : https://djmag.fr/articles/4834-david-guetta-retrouve-sia-sur-le-tube-let-s-love…',\n",
       "  'date': '10:25 AM · 11 sept. 2020'},\n",
       " {'user': 'lillah ◡̈\\n@won7ho',\n",
       "  'comment': \"y a vrmt un gars qui s'appelle love dans onlyoneof genre\",\n",
       "  'date': '10:27 AM · 11 sept. 2020'},\n",
       " {'user': 'Carabine\\n@_Carabine',\n",
       "  'comment': 'Love the shape \\n ils étaient plutôt carrés avant ?',\n",
       "  'date': '10:28 AM · 11 sept. 2020'},\n",
       " {'user': 'Chay\\n@chaymaae_k',\n",
       "  'comment': 'Moi entrain d’écouter #TOP \\n@GGYOUNGBOY\\n love you bg',\n",
       "  'date': '10:29 AM · 11 sept. 2020'},\n",
       " {'user': 'TryingScotsman\\n@TryingScotsman',\n",
       "  'comment': 'Parfait.  Mmmm I love parfait.',\n",
       "  'date': '10:32 AM · 11 sept. 2020'},\n",
       " {'user': 'Popeye\\n@popey1',\n",
       "  'comment': 'Je suis love de ta coiffure — Simple et classe',\n",
       "  'date': '10:35 AM · 11 sept. 2020'},\n",
       " {'user': 'ana\\n@chalzmet',\n",
       "  'comment': 'moi : être à fond dans love alarm',\n",
       "  'date': '10:35 AM · 11 sept. 2020'},\n",
       " {'user': '⁶₆⁷ RKIA\\n@nevindiaa',\n",
       "  'comment': 'Mes copines comprennent pas mon amour pour Freeze ',\n",
       "  'date': '10:22 AM · 11 sept. 2020'},\n",
       " {'user': 'Roronoa\\n@kay_gth9',\n",
       "  'comment': 'Jvais écouter l’album ptt que jvais tomber in love aussi',\n",
       "  'date': '10:33 AM · 11 sept. 2020'},\n",
       " {'user': 'yapi lina\\n@yapilina5',\n",
       "  'comment': \"@NathanielFaria\\nen anglais la chanson un roman d'amitie se dit love find always a reason....c'est beau non?\",\n",
       "  'date': '10:26 AM · 11 sept. 2020'},\n",
       " {'user': 'william\\n@blxcklodge',\n",
       "  'comment': 'vraiment les films qui font ça c’est les meilleurs',\n",
       "  'date': '10:24 AM · 11 sept. 2020'},\n",
       " {'user': 'Tanguy Renault\\n@TanguyRnlt',\n",
       "  'comment': \"On peut pas battre Love Exposure qui fout son titre au bout d'une heure \",\n",
       "  'date': '10:26 AM · 11 sept. 2020'},\n",
       " {'user': 'Docteure Couine\\n@DreCouine',\n",
       "  'comment': 'On s\\'approche des panneaux de prévention contre les incendies dans les forêts chinoises (\"Forest such as love, fire on every one\") \\n NB - photos perso',\n",
       "  'date': '10:31 AM · 11 sept. 2020'},\n",
       " {'user': 'france C\\n@franceC3',\n",
       "  'comment': '@hausercello\\n & \\n@BenedettaCaret2\\n   Ce duo voix-violoncelle hors du commun sur \"I Will Always Love You\" a conquis le monde https://music-covers-creations.com/amp/ce-duo-voix-violoncelle-hors-du-commun-sur-i-will-always-love-you-a-conquis-le-monde/…',\n",
       "  'date': '10:22 AM · 11 sept. 2020'},\n",
       " {'user': 'ticia\\n@goldenticiah',\n",
       "  'comment': '@liida_love\\n tu me manques',\n",
       "  'date': '10:23 AM · 11 sept. 2020'},\n",
       " {'user': '#SoirAuVillage\\n@CedricJason_K',\n",
       "  'comment': \"Bref je suis fan d'Ava Max !\",\n",
       "  'date': '1:37 PM · 10 sept. 2020'},\n",
       " {'user': 'laChronique de romeo\\n@romeo_Ntonga',\n",
       "  'comment': 'La petite nouvelle qui nouvelle qui en a marre des comparaisons avec Gaga mais qui joue bien sur cet aspect avec son image.\\nOuais elle chante bien, j\\'aime surtout le love yourself qu\\'elle veut donner aux autres \"So am i\".',\n",
       "  'date': '10:32 AM · 11 sept. 2020'},\n",
       " {'user': 'MatthieuGB\\n@MatthieuGB',\n",
       "  'comment': \"Oh and by the way on voit ça sur tiktok tous les jours avec le Wap challenge. \\nY'a surtout un truc anti-français, image de film français = cul trash (cf Love sur Netflix), ce serait US à la Little Miss Sunshine personne dirait rien\",\n",
       "  'date': '10:21 AM · 11 sept. 2020'},\n",
       " {'user': 'héroïne\\n@pinkumei',\n",
       "  'comment': \"Donne le nom sabine c'esr vital\",\n",
       "  'date': '8:14 AM · 11 sept. 2020'},\n",
       " {'user': 'ℱaileen。\\n@Hanayurica',\n",
       "  'comment': \"When we shout for love !!\\nVraiment ce qu'on recherche chez un shoujo\",\n",
       "  'date': '10:37 AM · 11 sept. 2020'},\n",
       " {'user': '𝗏𝖺𝗅,, ANA DAY\\n@snkuroko',\n",
       "  'comment': 'JOYEUX ANNIVERSAIRE \\n@jenolight\\n !! (alors oui, je dormais hier soir à 00h....) Je t’aime fort fort, j’espère que tu passeras une merveilleuse journée. Prends bien soin de toi, tu me manques beaucoup beaucoup beaucoup I LOVE YOU SO MUCH PASSE UNE BONNE JOURNÉE',\n",
       "  'date': '10:31 AM · 11 sept. 2020'},\n",
       " {'user': '@chrispirate_',\n",
       "  'comment': 'il a level up dans le respect du black love.',\n",
       "  'date': '10:28 AM · 11 sept. 2020'},\n",
       " {'user': 'Joe Marsh\\n@JoeMar',\n",
       "  'comment': 'Had a great year end lunch & meeting with our team leaders. We are going to come back even stronger in 2021! We appreciate the continued love and support of our amazing \\n@T1LoL\\n fans! Fighting!',\n",
       "  'date': '10:28 AM · 11 sept. 2020'},\n",
       " {'user': 'Monsta X France\\n✦\\n@monstaxfrance',\n",
       "  'comment': '[TRAD\\n] 110920\\n\\n[Information Radio OA］\\nFM NORTHWAVE「Colors Of Korea」\\n(\\n@northwave825\\n /  \\n@furuyamasayuki0\\n)\\nSamedi 12/09 : 04H00～04H30 (heure de Paris)\\n\\nLes commentaires et musiques de WONHO seront diffusés durant le programme\\n#원호 #WONHO\\n#Love_Synonym #Right_for_Me',\n",
       "  'date': '10:30 AM · 11 sept. 2020'},\n",
       " {'user': 'Mitsuha.\\n@mriae_',\n",
       "  'comment': 'MOI AUSSI',\n",
       "  'date': '9:57 AM · 11 sept. 2020'},\n",
       " {'user': 'Meh\\n@213UCHIWA',\n",
       "  'comment': 'M’en fou tu prend mon love et tu la ferme',\n",
       "  'date': '10:38 AM · 11 sept. 2020'},\n",
       " {'user': 'Romann\\n@PokeRomie',\n",
       "  'comment': 'https://youtube.com/watch?v=CVtTCap_k-Q… \\nIM SCREAMING AAAH djkfbvsdv tout les passages avec \"omg my cat gf\" je veux DEAD',\n",
       "  'date': '10:28 AM · 11 sept. 2020'},\n",
       " {'user': 'Lord_Aristocratic\\n@dksleeck',\n",
       "  'comment': '@Chaninii_\\n  celib inh mais docteur love sur twitter bon! ',\n",
       "  'date': '10:37 AM · 11 sept. 2020'},\n",
       " {'user': 'Nathanaël\\n@Nashowman1',\n",
       "  'comment': 'Osaka dessine tout doucement un nouveau leadership durable sur le tennis féminin. Il était temps!',\n",
       "  'date': '8:56 AM · 11 sept. 2020'}]"
      ]
     },
     "execution_count": 6,
     "metadata": {},
     "output_type": "execute_result"
    }
   ],
   "source": [
    "p.get_comment_by_key(\"love\",30,7)"
   ]
  },
  {
   "cell_type": "code",
   "execution_count": 4,
   "metadata": {},
   "outputs": [
    {
     "data": {
      "text/plain": [
       "[[{'user': 'K͓̽a͓̽i͓̽⁷𖧵⁸\\n@HuenDayDream',\n",
       "   'comment': 'How can you not love him?!',\n",
       "   'date': '10:58 AM · Sep 11, 2020'},\n",
       "  {'user': 'beth\\n@jzhyuyan',\n",
       "   'comment': 'yuyan’s weibo update! \\n\\n“\\n who loves to sing”',\n",
       "   'date': '10:45 AM · Sep 11, 2020'},\n",
       "  {'user': 'Manthra Mukundan\\n@ManthraMukund',\n",
       "   'comment': 'This is #Manthra from Chennai working in IT industry and a mother of 7 year old son and husband is working as a pilot.  So bored with life love to making more friends so guys interested in me do dm lets know each other. என்ன பிடிச்ச பேசுங்க',\n",
       "   'date': '10:54 AM · Sep 11, 2020'},\n",
       "  {'user': 'ayz\\n@novaksmoriarty',\n",
       "   'comment': '#Affinitweet Secret Crush\\nbvtchers secretly loves you! \\nWho loves you in secret?\\nvia https://affinitweet.com/secret-crush',\n",
       "   'date': '10:51 AM · Sep 11, 2020'},\n",
       "  {'user': 'THE KPOPSIS\\n@thekpopsis',\n",
       "   'comment': 'Can’t believe today was the one year anniversary of us reacting to \\n@SB19Official\\n. What a journey it has been from there. We’ve discovered so much since then. Thank you for everything this past year \\n@JoshCullen_s\\n @imszmc\\n @stellajero_\\n @keun16308352\\n @jah447798\\n  We love you guys! ',\n",
       "   'date': '10:50 AM · Sep 11, 2020'},\n",
       "  {'user': '⁷ (under physics textbook)\\n@kimjeonberry',\n",
       "   'comment': '\"I got drunk with Taehyung because he loves me\"\\nWbu???????',\n",
       "   'date': '10:44 AM · Sep 11, 2020'},\n",
       "  {'user': 'itztimi ≷\\n@itztimi31',\n",
       "   'comment': 'we love a glow up ',\n",
       "   'date': '10:53 AM · Sep 11, 2020'},\n",
       "  {'user': '☆린☆ #Bird\\n@pink_sweetfairy',\n",
       "   'comment': '(rough translation)\\nNJ\\n: Our fans who has always been supporting apink, and have also been waiting / looking forward to my solo, always giving me lots of support, i sincerely thank yall, i love you!',\n",
       "   'date': '10:59 AM · Sep 11, 2020'},\n",
       "  {'user': 'Michael Govern Ready\\n@mikegove12',\n",
       "   'comment': \"I love re-reading old speeches. Like this one from Dominic Raab on January 13th.\\n\\n'We will call out those who flout international law' \\n\\nWhat a line!\\n\\nhttp://ukpol.co.uk/dominic-raab-2020-statement-on-britain-in-the-world/…\",\n",
       "   'date': '10:45 AM · Sep 11, 2020'},\n",
       "  {'user': 'shelly\\n@shlytxtbts',\n",
       "   'comment': \"Don't you love it when he just.....\",\n",
       "   'date': '10:55 AM · Sep 11, 2020'},\n",
       "  {'user': 'Sweeps\\n@Sweepsgg',\n",
       "   'comment': 'I gave away $120 in the last 24 hours. Big thanks to the sponsors! Show them some extra love. \\n@JoesNetwork\\n@haul_free\\n@NugSalesman\\n@StreamsByQ\\nDM me to sponsor a cash giveaway.',\n",
       "   'date': '10:57 AM · Sep 11, 2020'},\n",
       "  {'user': 'ฅ𝐛𝐲𝐮𝐥ฅ\\n@onlyforRyujin',\n",
       "   'comment': \"I love Ryujin's outfit today!!! \",\n",
       "   'date': '10:45 AM · Sep 11, 2020'},\n",
       "  {'user': 'amy\\n@Ame_lia4',\n",
       "   'comment': 'Men who love boobs should be entitled to 600 years of enjoyment',\n",
       "   'date': '10:50 AM · Sep 11, 2020'},\n",
       "  {'user': 'BellaNaija\\n@bellanaija',\n",
       "   'comment': 'Be There for the Ones you Love with the Leadway Assurance Lifestyle Protection Plan http://dlvr.it/RgP8CW',\n",
       "   'date': '10:59 AM · Sep 11, 2020'},\n",
       "  {'user': 'Tosin\\n#BBNaija\\n@Ohloowatoscene',\n",
       "   'comment': 'When a man is sincerely in love, the touch of another woman irritates him..',\n",
       "   'date': '10:49 AM · Sep 11, 2020'},\n",
       "  {'user': 'Its_DasBabuRohit\\n@DasBabuRohit3',\n",
       "   'comment': 'A sign of my love \\n   \\nAnu Dhawan \\n https://instagram.com/p/CE_Ya8EFLWL/?igshid=1uhyo5k2s66hy…',\n",
       "   'date': '10:57 AM · Sep 11, 2020'},\n",
       "  {'user': 'Little_Things\\n#BhulaDunga100M\\n@NitaLoveSidNaaz',\n",
       "   'comment': \"'Sm!Le' - It irritates those who wiSh to destroy you...! \\n@ishehnaaz_gill\\n you are looking Damn Preety Hotiee meri jaan \\nkeep shining love you\",\n",
       "   'date': '10:58 AM · Sep 11, 2020'},\n",
       "  {'user': 'Rehan Ansari\\n@RehanAn02806895',\n",
       "   'comment': 'SARWAR SANJAY TRAVELS KAMPTEE would love your feedback. Post a review to our profile.\\nhttps://g.page/SSTKAMPTEE/review?gm…',\n",
       "   'date': '10:56 AM · Sep 11, 2020'},\n",
       "  {'user': 'Al¹²\\n@al_jannah99',\n",
       "   'comment': 'Love ',\n",
       "   'date': '10:44 AM · Sep 11, 2020'},\n",
       "  {'user': 'yona\\n@gyulliebby_',\n",
       "   'comment': 'his height is around 174~175cm \\n Hangyul will really loves him ',\n",
       "   'date': '10:48 AM · Sep 11, 2020'},\n",
       "  {'user': '¹⁹𝓵𝓪𝓵𝓪\\n| #PrioritizeK\\n@jeoneunkoga',\n",
       "   'comment': 'OH I LOVE THIS \\nFLAME ON CULT WERE LITERALLY ON FIRE ',\n",
       "   'date': '10:55 AM · Sep 11, 2020'},\n",
       "  {'user': 'dustin\\n@swiftiebaddie13',\n",
       "   'comment': \"getting emotional thinking back to when i was a kid & i picked up a random cd from a pretty curly blonde haired girl named taylor swift & fell in love with her before i got home & sitting in the driveway w my daddy because we couldn't stop listening to the magic\",\n",
       "   'date': '10:56 AM · Sep 11, 2020'},\n",
       "  {'user': 'The Reading Agency\\n@readingagency',\n",
       "   'comment': \"We love working with \\n@TheBookerPrizes\\n to produce readers' guides for the #2020BookerPrize longlist. If you're reading any of the longlisted books, use the guides to find more information, discussion questions and suggestions of what to read next http://ow.ly/VPZL50BmTaU\",\n",
       "   'date': '11:00 AM · Sep 11, 2020'},\n",
       "  {'user': 'Animal adoptions UK\\n@AdoptionsUk',\n",
       "   'comment': 'Please retweet to help Chunky find a home #WestMidlands \\n\\nAged 2-5, looking for a home with children aged 8+ as only pet that will go on with training this lovely lad, would love a secure garden? \\nhttps://dogstrust.org.uk/rehoming/dogs/dog/filters/~~~~~d~~/1240672/chunky…\\n\\n#dogs #Friday #adoptdontshop #animals #pets #UK',\n",
       "   'date': '10:54 AM · Sep 11, 2020'},\n",
       "  {'user': '₇⁵ 𝚊𝚗𝚐𝚎𝚕𝚊 𖧵\\n@gyuccibeom',\n",
       "   'comment': \"don't you just love it when soobin raises his brow\",\n",
       "   'date': '10:56 AM · Sep 11, 2020'}],\n",
       " []]"
      ]
     },
     "execution_count": 4,
     "metadata": {},
     "output_type": "execute_result"
    }
   ],
   "source": [
    "p.get_comment_by_keys([\"love\",\"foot\"],30,7)"
   ]
  },
  {
   "cell_type": "code",
   "execution_count": 3,
   "metadata": {},
   "outputs": [
    {
     "data": {
      "text/plain": [
       "[{'user': 'Georgy\\n#Macron2022\\n@regueyne',\n",
       "  'comment': '?',\n",
       "  'date': '3:14 PM · Sep 1, 2020'},\n",
       " {'user': 'a ™\\n@paquetdelessive',\n",
       "  'comment': 'La vidange de Dupond-Moretti ? ',\n",
       "  'date': '3:19 PM · Sep 1, 2020'},\n",
       " {'user': 'Ciaobella\\n@Ciaobella12321',\n",
       "  'comment': 'Ça m’étonne qu’il ait accepté une conseillère femme...',\n",
       "  'date': '3:45 PM · Sep 1, 2020'},\n",
       " {'user': 'Rendash\\n@LeCasRendash',\n",
       "  'comment': \"Les gens, c'est bien vidage, pas virage.\\n« Vidage », comme par un videur, quoi. \\nÉjectement, dégageation, renvoyure, si vous préférez \",\n",
       "  'date': '6:10 PM · Sep 1, 2020'},\n",
       " {'user': 'Humain974\\n@humain974',\n",
       "  'comment': 'Elle a accouché ?',\n",
       "  'date': '7:07 PM · Sep 1, 2020'},\n",
       " {'user': 'Patounet 22\\n@22Patounet',\n",
       "  'comment': 'Elle a peut-être refusé une faveur au gros féministe.',\n",
       "  'date': '7:10 PM · Sep 1, 2020'},\n",
       " {'user': 'Citoyenne\\n@Citoyen91157037',\n",
       "  'comment': 'Ils l ont virée c est un vidage ou elle a viré c est un virage ??? ',\n",
       "  'date': '3:19 PM · Sep 1, 2020'},\n",
       " {'user': 'JJ vélotaffeur dé-masqué\\n@JeanJacques92',\n",
       "  'comment': 'ou bien cette action supersonique signifie-t-elle que ce poste était un Mirage ?',\n",
       "  'date': '4:25 PM · Sep 1, 2020'},\n",
       " {'user': 'Jayjayrémy\\n@Jayjayraymy',\n",
       "  'comment': 'OK, mais pourquoi supersonique ? On verra bien',\n",
       "  'date': '3:55 PM · Sep 1, 2020'},\n",
       " {'user': 'Flo\\n@Florentgen',\n",
       "  'comment': \"Car il vient d'arrivé depuis peu et qu'il y aurait déjà des déballages? (Simple supposition, c'est très vague comme titre ^^)\",\n",
       "  'date': '3:56 PM · Sep 1, 2020'},\n",
       " {'user': 'Benjamin\\n@soussouz31',\n",
       "  'comment': '?',\n",
       "  'date': '3:15 PM · Sep 1, 2020'},\n",
       " {'user': 'Bill K\\n@BillK01371133',\n",
       "  'comment': 'Vidage de vider',\n",
       "  'date': '3:46 PM · Sep 1, 2020'},\n",
       " {'user': 'Benoît Goupil\\n@BenoitGoupil',\n",
       "  'comment': \"Le Canard Enchaîné sait écrire le français, merci pour lui. Virage pour virer quelqu'un ça n'existe pas. Vidage, se faire vider, sont utilisés depuis longtemps dans ce sens, mais apparemment plus assez pour que les gens s'en souviennent.\",\n",
       "  'date': '4:22 PM · Sep 1, 2020'},\n",
       " {'user': 'Pr James NEO\\n@EMITIPRASTIN',\n",
       "  'comment': \"N'en tirons pas des conclusions hâtives , c'est peut être...l'idiot du vidage !\",\n",
       "  'date': '7:27 PM · Sep 1, 2020'},\n",
       " {'user': 'ius\\n@ius07034569',\n",
       "  'comment': 'Elle s\\'est fait \"vider\" car elle est a l\\'origine des poursuites contre Bayrou...',\n",
       "  'date': '10:27 AM · Sep 5, 2020'},\n",
       " {'user': 'Sahraoui Khira\\n@KhiraSahraoui',\n",
       "  'comment': 'Une coquille !?...le ‘’ d ‘’ à la place du ‘’ r ‘’ ',\n",
       "  'date': '3:20 PM · Sep 1, 2020'},\n",
       " {'user': 'Crayon - Gaulois.\\n@Champ_de_mines',\n",
       "  'comment': 'La vache, achetez donc Le Canard, il peut aussi servir à apprendre à lire !',\n",
       "  'date': '5:28 PM · Sep 2, 2020'},\n",
       " {'user': 'deuxieme_ballon\\n@deuxieme_ballon',\n",
       "  'comment': 'Y en a un paquet qui ne lisent pas le Canard pour s’interroger sur l’orthographe \\n! Grave',\n",
       "  'date': '8:10 PM · Sep 1, 2020'},\n",
       " {'user': 'Blabla Jacta Est\\n@BlablaJactaEst',\n",
       "  'comment': 'Non. Achetez un dico.',\n",
       "  'date': '4:32 PM · Sep 3, 2020'},\n",
       " {'user': 'Unconparmilescons\\n@Sansreligionfix',\n",
       "  'comment': 'Le canard ne sert à rien... Vous êtes la caution de tous les gvts depuis votre création. Taper sur tout le monde revient à favoriser le pouvoir en place. Du poil à gratter. Votre place est dans les magasin de farce et attrape',\n",
       "  'date': '11:14 AM · Sep 2, 2020'}]"
      ]
     },
     "execution_count": 3,
     "metadata": {},
     "output_type": "execute_result"
    }
   ],
   "source": [
    "p.get_comment_by_publication(publication_id=\"https://twitter.com/canardenchaine/status/1300783735881764867\",n=20,scroll=5)"
   ]
  },
  {
   "cell_type": "code",
   "execution_count": 7,
   "metadata": {},
   "outputs": [
    {
     "data": {
      "text/plain": [
       "['@Maillots_2_Foot',\n",
       " '@NasComps',\n",
       " '@brisaytb1',\n",
       " '@Maillot_Usine',\n",
       " '@JimmyMcNult',\n",
       " '@20DEMB',\n",
       " '@badmin_hisamizu',\n",
       " '@AMIN48K',\n",
       " '@CdricGuyot2',\n",
       " '@twis42']"
      ]
     },
     "execution_count": 7,
     "metadata": {},
     "output_type": "execute_result"
    }
   ],
   "source": [
    "p.get_followers(user_id=\"INTE054\",scroll=1)"
   ]
  },
  {
   "cell_type": "code",
   "execution_count": 8,
   "metadata": {},
   "outputs": [
    {
     "data": {
      "text/plain": [
       "['@UnibetFrance',\n",
       " '@unfollowninja',\n",
       " '@brisaytb1',\n",
       " '@EnebaFr',\n",
       " '@TheShirtMan_',\n",
       " '@DistortBot',\n",
       " '@AMIN48K',\n",
       " '@Statsdufoot',\n",
       " '@abdl4_8']"
      ]
     },
     "execution_count": 8,
     "metadata": {},
     "output_type": "execute_result"
    }
   ],
   "source": [
    "p.get_following(user_id=\"INTE054\",scroll=1)"
   ]
  },
  {
   "cell_type": "code",
   "execution_count": 11,
   "metadata": {},
   "outputs": [],
   "source": [
    "import time\n",
    "from selenium.webdriver.common.keys import Keys\n",
    "browser=p.driver\n",
    "elem = browser.find_element_by_tag_name(\"body\")\n",
    "\n",
    "no_of_pagedowns = 10\n",
    "\n",
    "while no_of_pagedowns:\n",
    "    elem.send_keys(Keys.PAGE_DOWN)\n",
    "    time.sleep(0.2)\n",
    "    no_of_pagedowns-=1\n",
    "\n",
    "twitter_elm = browser.find_elements_by_class_name(\"tweet\")\n"
   ]
  },
  {
   "cell_type": "code",
   "execution_count": 6,
   "metadata": {},
   "outputs": [],
   "source": [
    "p.driver.close()"
   ]
  }
 ],
 "metadata": {
  "kernelspec": {
   "display_name": "Python 3",
   "language": "python",
   "name": "python3"
  },
  "language_info": {
   "codemirror_mode": {
    "name": "ipython",
    "version": 3
   },
   "file_extension": ".py",
   "mimetype": "text/x-python",
   "name": "python",
   "nbconvert_exporter": "python",
   "pygments_lexer": "ipython3",
   "version": "3.8.3"
  }
 },
 "nbformat": 4,
 "nbformat_minor": 4
}
